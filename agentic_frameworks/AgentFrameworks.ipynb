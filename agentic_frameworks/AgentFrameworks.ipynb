{
 "cells": [
  {
   "cell_type": "markdown",
   "id": "b2bbe88c-9535-4418-a3ca-9063da9345dc",
   "metadata": {},
   "source": [
    "# Agentic Frameworks\n",
    "\n",
    "## LlamaIndex"
   ]
  },
  {
   "cell_type": "markdown",
   "id": "eeb95aa9-e481-4072-aa90-204165a14b44",
   "metadata": {},
   "source": [
    "### Librerias\n"
   ]
  },
  {
   "cell_type": "code",
   "execution_count": null,
   "id": "865769c4",
   "metadata": {},
   "outputs": [],
   "source": [
    "\n",
    "%pip install llama-index\n",
    "%pip install llama-index-llms-azure-openai"
   ]
  },
  {
   "cell_type": "code",
   "execution_count": 2,
   "id": "2bd96f0e-5359-425a-829e-d2d828663f80",
   "metadata": {},
   "outputs": [],
   "source": [
    "import os\n",
    "import requests\n",
    "\n",
    "from dotenv import load_dotenv\n",
    "from llama_index.core.agent import FunctionCallingAgentWorker\n",
    "from llama_index.core.agent import AgentRunner\n",
    "from llama_index.core.tools import FunctionTool\n",
    "from llama_index.llms.azure_openai import AzureOpenAI"
   ]
  },
  {
   "cell_type": "markdown",
   "id": "aa68ccee-86e2-4ad0-bdfc-ebd1633d81b3",
   "metadata": {},
   "source": [
    "# Carga de variables de .env"
   ]
  },
  {
   "cell_type": "code",
   "execution_count": 3,
   "id": "4635193b-8d42-44a5-b4c1-c6e51934ffd5",
   "metadata": {},
   "outputs": [],
   "source": [
    "load_dotenv(override=True)\n",
    "\n",
    "az_openai_endpoint = os.getenv(\"AZURE_OPENAI_ENDPOINT_URL\")\n",
    "az_openai_deployment_name = os.getenv(\"AZURE_OPENAI_DEPLOYMENT_NAME\")\n",
    "az_openai_api_key = os.getenv(\"AZURE_OPENAI_API_KEY\")\n",
    "bing_api_key = os.getenv(\"BING_API_KEY\")"
   ]
  },
  {
   "cell_type": "markdown",
   "id": "a7db806e-7198-480e-9865-1b5c52fe86d4",
   "metadata": {},
   "source": [
    "# Crea el cliente Azure OpenAI en LlamaIndex"
   ]
  },
  {
   "cell_type": "code",
   "execution_count": 4,
   "id": "1ccb7d59-3af6-4817-87be-00bd83e3e94a",
   "metadata": {},
   "outputs": [],
   "source": [
    "llm = AzureOpenAI(\n",
    "    engine=az_openai_deployment_name,\n",
    "    azure_endpoint=az_openai_endpoint,\n",
    "    api_key=az_openai_api_key,\n",
    "    api_version=\"2024-05-01-preview\",\n",
    ")"
   ]
  },
  {
   "cell_type": "markdown",
   "id": "7aa7bad2-41fb-4334-bde2-fba5f9459bcd",
   "metadata": {},
   "source": [
    "# Añadimos Tools - Busqueda en Bing"
   ]
  },
  {
   "cell_type": "code",
   "execution_count": 5,
   "id": "2bd76bcd-56cb-4530-a2ba-5700d146e927",
   "metadata": {},
   "outputs": [],
   "source": [
    "def search_for_data_in_bing(query):\n",
    "    \"\"\"Search the Bing Web Search API and return the first result.\"\"\"\n",
    "    headers = {\n",
    "        \"Ocp-Apim-Subscription-Key\": bing_api_key\n",
    "    }\n",
    "    params = {\n",
    "        \"q\": query,\n",
    "        \"count\": 1  # Only request 1 result\n",
    "    }\n",
    "\n",
    "    response = requests.get(\"https://api.bing.microsoft.com/v7.0/search\", headers=headers, params=params)\n",
    "    response.raise_for_status()\n",
    "    data = response.json()\n",
    "\n",
    "    if \"webPages\" in data and \"value\" in data[\"webPages\"] and len(data[\"webPages\"][\"value\"]) > 0:\n",
    "        first_result = data[\"webPages\"][\"value\"][0]\n",
    "        snippet = first_result.get(\"snippet\", \"No Snippet\")\n",
    "        return snippet\n",
    "    else:\n",
    "        return \"No results found.\""
   ]
  },
  {
   "cell_type": "markdown",
   "id": "b94419fd-1530-4355-8533-e24e92bbd248",
   "metadata": {},
   "source": [
    "## Probamos la tool"
   ]
  },
  {
   "cell_type": "code",
   "execution_count": null,
   "id": "ad6b7845-2c31-45f2-a4f0-a899d0982060",
   "metadata": {},
   "outputs": [],
   "source": [
    "search_for_data_in_bing(\"Capital de Estados Unidos\")"
   ]
  },
  {
   "cell_type": "markdown",
   "id": "b9f26c2a-8861-4e85-af8e-331f5fa273d0",
   "metadata": {},
   "source": [
    "## Registro de tools para llamada a Azure OpenAI"
   ]
  },
  {
   "cell_type": "code",
   "execution_count": 7,
   "id": "6e48464e-38aa-4449-a222-f19dba6d0376",
   "metadata": {},
   "outputs": [],
   "source": [
    "search_tool = FunctionTool.from_defaults(fn=search_for_data_in_bing)"
   ]
  },
  {
   "cell_type": "markdown",
   "id": "f29599ae-cfe7-4c97-8bf1-9b506698f5fb",
   "metadata": {},
   "source": [
    "## Llamada a API con tools"
   ]
  },
  {
   "cell_type": "code",
   "execution_count": 8,
   "id": "9d370f8d-767a-4305-b1d7-100eb30ddece",
   "metadata": {},
   "outputs": [],
   "source": [
    "agent_worker = FunctionCallingAgentWorker.from_tools(\n",
    "    [search_tool], \n",
    "    llm=llm,\n",
    "    verbose=False\n",
    ")\n",
    "agent = AgentRunner(agent_worker)"
   ]
  },
  {
   "cell_type": "code",
   "execution_count": null,
   "id": "a5120fee-d4f2-421a-be86-f3c298fc4372",
   "metadata": {},
   "outputs": [],
   "source": [
    "response = agent.query(\n",
    "    \"Quien ganó la eurocopa de 2024?\"\n",
    ")\n",
    "\n",
    "print(f\" La respuesta del LLM es {response}\")"
   ]
  }
 ],
 "metadata": {
  "kernelspec": {
   "display_name": "base",
   "language": "python",
   "name": "python3"
  },
  "language_info": {
   "codemirror_mode": {
    "name": "ipython",
    "version": 3
   },
   "file_extension": ".py",
   "mimetype": "text/x-python",
   "name": "python",
   "nbconvert_exporter": "python",
   "pygments_lexer": "ipython3",
   "version": "3.12.2"
  }
 },
 "nbformat": 4,
 "nbformat_minor": 5
}
